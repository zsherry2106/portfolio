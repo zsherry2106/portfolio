{
 "cells": [
  {
   "cell_type": "code",
   "execution_count": null,
   "metadata": {},
   "outputs": [],
   "source": [
    "import pandas as pd\n",
    "import re\n",
    "\n",
    "#remove uppercase and special characters\n",
    "drug_comb_drugs = pd.read_csv('old data/all_drugs_clean.csv')\n",
    "drug_comb_drugs = [drug.lower() for drug in drug_comb_drugs['drug']]\n",
    "drug_comb_drugs = [re.sub('[\\W_]+', '', drug) for drug in drug_comb_drugs]\n",
    "drug_comb_drugs"
   ]
  },
  {
   "cell_type": "code",
   "execution_count": null,
   "metadata": {},
   "outputs": [],
   "source": [
    "#remove uppercase and special characters\n",
    "lincs_df = pd.read_csv('lincs_data.csv')\n",
    "lincs = [drug.lower() for drug in lincs_df['HMSL Small Mol Name']]\n",
    "lincs = [re.sub('[\\W_]+', '', drug) for drug in lincs]\n",
    "\n",
    "lincs_df['HMSL Small Mol Name'] = lincs\n"
   ]
  },
  {
   "cell_type": "code",
   "execution_count": null,
   "metadata": {},
   "outputs": [],
   "source": [
    "#find common drugs and add to list\n",
    "common = []\n",
    "\n",
    "for drug in drug_comb_drugs:\n",
    "    if drug in lincs:\n",
    "        common.append(drug)\n",
    "\n",
    "print(common)"
   ]
  },
  {
   "cell_type": "code",
   "execution_count": null,
   "metadata": {},
   "outputs": [],
   "source": [
    "#set drug name as index so pd loc function can be used\n",
    "lincs_df.set_index('HMSL Small Mol Name', inplace=True)\n",
    "lincs_df"
   ]
  },
  {
   "cell_type": "code",
   "execution_count": null,
   "metadata": {},
   "outputs": [],
   "source": [
    "import json\n",
    "target_dict = {}\n",
    "\n",
    "#take drug and find rows from lincs with that drug - then assemble list of targets and add to dictionary as value\n",
    "for drug in common:\n",
    "    # print(lincs_df.loc[drug])\n",
    "    target_dict[drug] = list(lincs_df.loc[drug]['HUGO Gene Symbol'])\n",
    "\n",
    "#move to txt file\n",
    "with open('convert_sherry.txt', 'w') as convert_file: \n",
    "    convert_file.write(json.dumps(target_dict))"
   ]
  },
  {
   "cell_type": "code",
   "execution_count": null,
   "metadata": {},
   "outputs": [],
   "source": [
    "#check number of overlapping drugs\n",
    "print(len(list(target_dict)))"
   ]
  }
 ],
 "metadata": {
  "kernelspec": {
   "display_name": "umich",
   "language": "python",
   "name": "python3"
  },
  "language_info": {
   "codemirror_mode": {
    "name": "ipython",
    "version": 3
   },
   "file_extension": ".py",
   "mimetype": "text/x-python",
   "name": "python",
   "nbconvert_exporter": "python",
   "pygments_lexer": "ipython3",
   "version": "3.11.0"
  }
 },
 "nbformat": 4,
 "nbformat_minor": 2
}
